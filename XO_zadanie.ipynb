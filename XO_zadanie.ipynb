{
 "cells": [
  {
   "cell_type": "markdown",
   "metadata": {},
   "source": [
    "## Получение institution_id \"Bank of America\""
   ]
  },
  {
   "cell_type": "code",
   "execution_count": 1017,
   "metadata": {},
   "outputs": [],
   "source": [
    "import json\n",
    "import requests\n",
    "from plaid import Client\n",
    "pub_key=\"b27964897dfd9b8f31451dd23752d9\"\n",
    "# Поиск ИД Фин института через\n",
    "# https://documenter.getpostman.com/view/4675947/RWMLHkHR?version=latest#399f481a-2fcc-446b-a269-1937317fdef2\n",
    "url_inst_id='https://sandbox.plaid.com/institutions/search'\n",
    "url_inst_body={\"query\": \"Bank of America\",    \"products\": [\"transactions\"],    \"public_key\": pub_key}\n",
    "header = {\"Content-Type\": \"application/json\",\"User-Agent\": \"Plaid Postman\"}\n",
    "inst_request=requests.post(url_inst_id,data=json.dumps(url_inst_body),headers=header)\n",
    "inst_id = inst_request.json()['institutions'][0]['institution_id']"
   ]
  },
  {
   "cell_type": "markdown",
   "metadata": {},
   "source": [
    "## Генерация Public и Access токена"
   ]
  },
  {
   "cell_type": "code",
   "execution_count": 1018,
   "metadata": {},
   "outputs": [],
   "source": [
    "# https://documenter.getpostman.com/view/4675947/RWMLHkHR?version=latest#92942453-9874-4536-92ae-18fd2edcc5d6\n",
    "url_pub_token='https://sandbox.plaid.com/sandbox/public_token/create'\n",
    "pub_key_body = ({\n",
    "  \"public_key\": pub_key,\n",
    "  \"institution_id\": inst_id,\n",
    "  \"initial_products\": [\"assets\"],\n",
    "  \"options\": {\n",
    "    \"webhook\": \"https://www.genericwebhookurl.com/webhook\"\n",
    "  }\n",
    "})\n",
    "pub_token_request=requests.post(url_pub_token,data=json.dumps(pub_key_body),headers=header)\n",
    "pub_token = pub_token_request.json()['public_token']\n",
    "\n",
    "# https://github.com/plaid/plaid-python#examples \n",
    "client = Client(client_id='5ecb70c91aa68500131ccd63', secret='8d81c7a27f64aa26f4733c2c87fc87', public_key='b27964897dfd9b8f31451dd23752d9', environment='sandbox')\n",
    "response = client.Item.public_token.exchange(pub_token)\n",
    "access_token = response['access_token']\n",
    "# Здесь идёт получение public_token и access_token, чтобы по ним сгенерировать списки транзакций и Asset report"
   ]
  },
  {
   "cell_type": "markdown",
   "metadata": {},
   "source": [
    "## Получение списка транзакций за период"
   ]
  },
  {
   "cell_type": "code",
   "execution_count": 1020,
   "metadata": {},
   "outputs": [],
   "source": [
    "import pandas as pd\n",
    "import time\n",
    "start_date='2020-03-01'\n",
    "end_date='2020-05-27'\n",
    "# time.sleep(30)\n",
    "transactions_data = client.Transactions.get(access_token, start_date=start_date, end_date=end_date)\n",
    "categories = client.Categories.get()\n",
    "df_transactions=pd.DataFrame.from_dict(transactions_data['transactions'])\n",
    "df_accounts=pd.DataFrame.from_dict(transactions_data['accounts'])\n",
    "df_categories=pd.DataFrame.from_dict(categories['categories'])\n",
    "# Из всего этого будет использоваться только df_accounts"
   ]
  },
  {
   "cell_type": "markdown",
   "metadata": {},
   "source": [
    "## Данные по транзакциям решил взять из Asset report"
   ]
  },
  {
   "cell_type": "code",
   "execution_count": 1021,
   "metadata": {},
   "outputs": [],
   "source": [
    "asset_rep_cred=client.AssetReport.create([access_token],57,options=None)\n",
    "# time.sleep(30)\n",
    "asset_rep_token=asset_rep_cred['asset_report_token']\n",
    "assrep=client.AssetReport.get(asset_rep_token)\n",
    "# отчёт за последние 57 дней (с начала апреля)"
   ]
  },
  {
   "cell_type": "code",
   "execution_count": 1022,
   "metadata": {},
   "outputs": [],
   "source": [
    "a=[]\n",
    "for i in assrep['report']['items'][0]['accounts']:\n",
    "    for j in i['transactions']:\n",
    "        a.append(j)\n",
    "# Получение из Asset_report только списка транзакций"
   ]
  },
  {
   "cell_type": "code",
   "execution_count": 1023,
   "metadata": {},
   "outputs": [],
   "source": [
    "asset_dfraw=pd.DataFrame.from_dict(a)"
   ]
  },
  {
   "cell_type": "code",
   "execution_count": 1024,
   "metadata": {},
   "outputs": [],
   "source": [
    "asset_dfmerged=pd.merge(asset_dfraw,df_accounts, how='left', on='account_id')\n",
    "asset_dfclean=asset_dfmerged.drop(['account_id','iso_currency_code','pending','transaction_id','unofficial_currency_code','balances','mask','name','official_name','subtype'], axis=1)"
   ]
  },
  {
   "cell_type": "code",
   "execution_count": 1025,
   "metadata": {},
   "outputs": [],
   "source": [
    "asset_dfclean['Income/Expense']=asset_dfclean['amount'].apply(lambda x: 'Income' if x>=0 else 'Expense')\n",
    "asset_dfclean['month'] =  pd.to_datetime(asset_dfclean['date'], format='%Y-%m-%d').dt.strftime('%b %Y')\n",
    "asset_dfclean=asset_dfclean.drop(['date'],axis=1)\n",
    "# Подготовка датафрейма"
   ]
  },
  {
   "cell_type": "code",
   "execution_count": 1026,
   "metadata": {},
   "outputs": [],
   "source": [
    "out_df = asset_dfclean.groupby(['Income/Expense']).apply(lambda sub: sub.pivot_table(\n",
    "    index=['Income/Expense','original_description','type'],\n",
    "    values='amount', \n",
    "    columns='month',\n",
    "    aggfunc=sum,\n",
    "    margins=True,\n",
    "    margins_name='Total',\n",
    "))\n",
    "\n",
    "out_df.index = out_df.index.droplevel(0)\n",
    "out_df=out_df.reset_index()\n",
    "# Пивот и сброс мультииндекса"
   ]
  },
  {
   "cell_type": "markdown",
   "metadata": {},
   "source": [
    "## Экспорт в GooglespreadSheets"
   ]
  },
  {
   "cell_type": "code",
   "execution_count": 1027,
   "metadata": {},
   "outputs": [],
   "source": [
    "import gspread\n",
    "from df2gspread import df2gspread as d2g\n",
    "from oauth2client.service_account import ServiceAccountCredentials\n",
    "scope = ['https://spreadsheets.google.com/feeds',\n",
    "         'https://www.googleapis.com/auth/drive']\n",
    "credentials = ServiceAccountCredentials.from_json_keyfile_name(\n",
    "    'myproject001xo-2fd41c5157cf.json', scope)\n",
    "gc = gspread.authorize(credentials)\n",
    "# Настройка доступа, через json файл от Google"
   ]
  },
  {
   "cell_type": "code",
   "execution_count": 1030,
   "metadata": {
    "scrolled": true
   },
   "outputs": [
    {
     "data": {
      "text/plain": [
       "<Worksheet 'Raw' id:0>"
      ]
     },
     "execution_count": 1030,
     "metadata": {},
     "output_type": "execute_result"
    }
   ],
   "source": [
    "spreadsheet_key = '1mZ0exUHQGoA7Vtc6-vWhJwpE8NZL_KkCbdvsQ-Y63Gs'\n",
    "wks_name = 'Raw'\n",
    "d2g.upload(asset_dfraw, spreadsheet_key, wks_name, credentials=credentials, row_names=True)\n",
    "# Отправка сырого DF "
   ]
  },
  {
   "cell_type": "code",
   "execution_count": 1031,
   "metadata": {},
   "outputs": [
    {
     "data": {
      "text/plain": [
       "<Worksheet 'Formated' id:1011452588>"
      ]
     },
     "execution_count": 1031,
     "metadata": {},
     "output_type": "execute_result"
    }
   ],
   "source": [
    "spreadsheet_key = '1mZ0exUHQGoA7Vtc6-vWhJwpE8NZL_KkCbdvsQ-Y63Gs'\n",
    "wks_name = 'Formated'\n",
    "d2g.upload(out_df, spreadsheet_key, wks_name, credentials=credentials, row_names=True)\n",
    "# Отправка готового DF"
   ]
  },
  {
   "cell_type": "markdown",
   "metadata": {},
   "source": [
    "P.s. не сделал Subtotal для каждой группы, т.к. не хватило времени с ними разобраться\n",
    "Ссылка на Google Spreadsheet:\n",
    "https://docs.google.com/spreadsheets/d/1mZ0exUHQGoA7Vtc6-vWhJwpE8NZL_KkCbdvsQ-Y63Gs/edit#gid=0"
   ]
  }
 ],
 "metadata": {
  "kernelspec": {
   "display_name": "Python 3",
   "language": "python",
   "name": "python3"
  },
  "language_info": {
   "codemirror_mode": {
    "name": "ipython",
    "version": 3
   },
   "file_extension": ".py",
   "mimetype": "text/x-python",
   "name": "python",
   "nbconvert_exporter": "python",
   "pygments_lexer": "ipython3",
   "version": "3.7.4"
  }
 },
 "nbformat": 4,
 "nbformat_minor": 2
}
